{
 "cells": [
  {
   "cell_type": "markdown",
   "metadata": {},
   "source": [
    "## C-9 Exercise "
   ]
  },
  {
   "cell_type": "markdown",
   "metadata": {},
   "source": [
    "### 1. Implementing K-Means Clustering in Python from Scratch\n",
    "To work with K-Means in Python, we must first import the required libraries and packages. In this case, we will import pandas, numpy, random and matplotlib.pyplot. We also include their respective abbreviations. "
   ]
  },
  {
   "cell_type": "code",
   "execution_count": 19,
   "metadata": {},
   "outputs": [],
   "source": [
    "import pandas as pd\n",
    "import numpy as np\n",
    "import random as rd\n",
    "import matplotlib.pyplot as plt"
   ]
  },
  {
   "cell_type": "markdown",
   "metadata": {},
   "source": [
    "Then, we assign to the data vector the .csv file clustering, which we have previously downloaded. We use the read_csv() function to read it in our Jupyter Notebook. We then use the head() comman to see the first 5 rows of our data and make sure it is the correct dataset. "
   ]
  },
  {
   "cell_type": "code",
   "execution_count": 20,
   "metadata": {},
   "outputs": [
    {
     "data": {
      "text/html": [
       "<div>\n",
       "<style scoped>\n",
       "    .dataframe tbody tr th:only-of-type {\n",
       "        vertical-align: middle;\n",
       "    }\n",
       "\n",
       "    .dataframe tbody tr th {\n",
       "        vertical-align: top;\n",
       "    }\n",
       "\n",
       "    .dataframe thead th {\n",
       "        text-align: right;\n",
       "    }\n",
       "</style>\n",
       "<table border=\"1\" class=\"dataframe\">\n",
       "  <thead>\n",
       "    <tr style=\"text-align: right;\">\n",
       "      <th></th>\n",
       "      <th>Loan_ID</th>\n",
       "      <th>Gender</th>\n",
       "      <th>Married</th>\n",
       "      <th>Dependents</th>\n",
       "      <th>Education</th>\n",
       "      <th>Self_Employed</th>\n",
       "      <th>ApplicantIncome</th>\n",
       "      <th>CoapplicantIncome</th>\n",
       "      <th>LoanAmount</th>\n",
       "      <th>Loan_Amount_Term</th>\n",
       "      <th>Credit_History</th>\n",
       "      <th>Property_Area</th>\n",
       "      <th>Loan_Status</th>\n",
       "    </tr>\n",
       "  </thead>\n",
       "  <tbody>\n",
       "    <tr>\n",
       "      <td>0</td>\n",
       "      <td>LP001003</td>\n",
       "      <td>Male</td>\n",
       "      <td>Yes</td>\n",
       "      <td>1</td>\n",
       "      <td>Graduate</td>\n",
       "      <td>No</td>\n",
       "      <td>4583</td>\n",
       "      <td>1508.0</td>\n",
       "      <td>128</td>\n",
       "      <td>360.0</td>\n",
       "      <td>1.0</td>\n",
       "      <td>Rural</td>\n",
       "      <td>N</td>\n",
       "    </tr>\n",
       "    <tr>\n",
       "      <td>1</td>\n",
       "      <td>LP001005</td>\n",
       "      <td>Male</td>\n",
       "      <td>Yes</td>\n",
       "      <td>0</td>\n",
       "      <td>Graduate</td>\n",
       "      <td>Yes</td>\n",
       "      <td>3000</td>\n",
       "      <td>0.0</td>\n",
       "      <td>66</td>\n",
       "      <td>360.0</td>\n",
       "      <td>1.0</td>\n",
       "      <td>Urban</td>\n",
       "      <td>Y</td>\n",
       "    </tr>\n",
       "    <tr>\n",
       "      <td>2</td>\n",
       "      <td>LP001006</td>\n",
       "      <td>Male</td>\n",
       "      <td>Yes</td>\n",
       "      <td>0</td>\n",
       "      <td>Not Graduate</td>\n",
       "      <td>No</td>\n",
       "      <td>2583</td>\n",
       "      <td>2358.0</td>\n",
       "      <td>120</td>\n",
       "      <td>360.0</td>\n",
       "      <td>1.0</td>\n",
       "      <td>Urban</td>\n",
       "      <td>Y</td>\n",
       "    </tr>\n",
       "    <tr>\n",
       "      <td>3</td>\n",
       "      <td>LP001008</td>\n",
       "      <td>Male</td>\n",
       "      <td>No</td>\n",
       "      <td>0</td>\n",
       "      <td>Graduate</td>\n",
       "      <td>No</td>\n",
       "      <td>6000</td>\n",
       "      <td>0.0</td>\n",
       "      <td>141</td>\n",
       "      <td>360.0</td>\n",
       "      <td>1.0</td>\n",
       "      <td>Urban</td>\n",
       "      <td>Y</td>\n",
       "    </tr>\n",
       "    <tr>\n",
       "      <td>4</td>\n",
       "      <td>LP001013</td>\n",
       "      <td>Male</td>\n",
       "      <td>Yes</td>\n",
       "      <td>0</td>\n",
       "      <td>Not Graduate</td>\n",
       "      <td>No</td>\n",
       "      <td>2333</td>\n",
       "      <td>1516.0</td>\n",
       "      <td>95</td>\n",
       "      <td>360.0</td>\n",
       "      <td>1.0</td>\n",
       "      <td>Urban</td>\n",
       "      <td>Y</td>\n",
       "    </tr>\n",
       "  </tbody>\n",
       "</table>\n",
       "</div>"
      ],
      "text/plain": [
       "    Loan_ID Gender Married Dependents     Education Self_Employed  \\\n",
       "0  LP001003   Male     Yes          1      Graduate            No   \n",
       "1  LP001005   Male     Yes          0      Graduate           Yes   \n",
       "2  LP001006   Male     Yes          0  Not Graduate            No   \n",
       "3  LP001008   Male      No          0      Graduate            No   \n",
       "4  LP001013   Male     Yes          0  Not Graduate            No   \n",
       "\n",
       "   ApplicantIncome  CoapplicantIncome  LoanAmount  Loan_Amount_Term  \\\n",
       "0             4583             1508.0         128             360.0   \n",
       "1             3000                0.0          66             360.0   \n",
       "2             2583             2358.0         120             360.0   \n",
       "3             6000                0.0         141             360.0   \n",
       "4             2333             1516.0          95             360.0   \n",
       "\n",
       "   Credit_History Property_Area Loan_Status  \n",
       "0             1.0         Rural           N  \n",
       "1             1.0         Urban           Y  \n",
       "2             1.0         Urban           Y  \n",
       "3             1.0         Urban           Y  \n",
       "4             1.0         Urban           Y  "
      ]
     },
     "execution_count": 20,
     "metadata": {},
     "output_type": "execute_result"
    }
   ],
   "source": [
    "data = pd.read_csv('clustering.csv')\n",
    "data.head()"
   ]
  },
  {
   "cell_type": "markdown",
   "metadata": {},
   "source": [
    "From our dataset, we will only be working with Loan Amount and Applicant Income variables. We assign this data vector X, as the first line of code indicates. The the following lines show how we plot our scatterplot, using the scatter() function. We specify that that Applicant Income will be plotted in the x-axis and rename it Annual Income, while the Loan Amount will be plotted in the y-axis and rename it Loan Amount (In Thousands). We also specify that the points should be black. "
   ]
  },
  {
   "cell_type": "code",
   "execution_count": 21,
   "metadata": {},
   "outputs": [
    {
     "data": {
      "image/png": "[encoded data removed]",
      "text/plain": [
       "<Figure size 432x288 with 1 Axes>"
      ]
     },
     "metadata": {
      "needs_background": "light"
     },
     "output_type": "display_data"
    }
   ],
   "source": [
    "X = data[[\"LoanAmount\",\"ApplicantIncome\"]]\n",
    "#Visualise data points\n",
    "plt.scatter(X[\"ApplicantIncome\"],X[\"LoanAmount\"],c='black')\n",
    "plt.xlabel('AnnualIncome')\n",
    "plt.ylabel('Loan Amount (In Thousands)')\n",
    "plt.show()"
   ]
  },
  {
   "cell_type": "markdown",
   "metadata": {},
   "source": [
    "The first step, then, is to chose the number of clusters (K). In this case, we have chose K=3. Then we need to randomly select a centroid for each cluster, i.e. the multidimensional average of the cluster or the center of the cluster. The second line of code selects random observations as our centroids, depending on how the data is scattered in the plot. The third line of code plots the same scatterplot as the one before, while the fourth line only plots the 3 centroids we found with the second line and the sample() function; we plot them in red to deifferentiate them from the main plot. "
   ]
  },
  {
   "cell_type": "code",
   "execution_count": 4,
   "metadata": {},
   "outputs": [
    {
     "data": {
      "image/png": "[encoded data removed]",
      "text/plain": [
       "<Figure size 432x288 with 1 Axes>"
      ]
     },
     "metadata": {
      "needs_background": "light"
     },
     "output_type": "display_data"
    }
   ],
   "source": [
    "K=3\n",
    "\n",
    "Centroids = (X.sample(n=K))\n",
    "plt.scatter(X[\"ApplicantIncome\"],X[\"LoanAmount\"],c='black')\n",
    "plt.scatter(Centroids[\"ApplicantIncome\"],Centroids[\"LoanAmount\"],c='red')\n",
    "plt.xlabel('AnnualIncome')\n",
    "plt.ylabel('Loan Amount (In Thousands)')\n",
    "plt.show()"
   ]
  },
  {
   "cell_type": "markdown",
   "metadata": {},
   "source": [
    "The following lines of code create a loop. We have initially defined diff as 1. Inside the loop, we are calcualting the difference between the centroids in the previous iteration and the current iteration. For this, we have also randomly assigned all the points to the closest cluster centroids, recomputed the centroids of newly formed clusters and repeated these steps to calcuate the difference until the difference is zero. We use .iterrows() to iterate the dataframe row-wise. We also specify that if the differences remain different from zero, the loop should continue running. The results show the code running until our condition of j==0 has been met. "
   ]
  },
  {
   "cell_type": "code",
   "execution_count": 5,
   "metadata": {},
   "outputs": [
    {
     "name": "stderr",
     "output_type": "stream",
     "text": [
      "/Users/LEBC/anaconda3/lib/python3.7/site-packages/ipykernel_launcher.py:18: SettingWithCopyWarning: \n",
      "A value is trying to be set on a copy of a slice from a DataFrame.\n",
      "Try using .loc[row_indexer,col_indexer] = value instead\n",
      "\n",
      "See the caveats in the documentation: http://pandas.pydata.org/pandas-docs/stable/user_guide/indexing.html#returning-a-view-versus-a-copy\n",
      "/Users/LEBC/anaconda3/lib/python3.7/site-packages/ipykernel_launcher.py:30: SettingWithCopyWarning: \n",
      "A value is trying to be set on a copy of a slice from a DataFrame.\n",
      "Try using .loc[row_indexer,col_indexer] = value instead\n",
      "\n",
      "See the caveats in the documentation: http://pandas.pydata.org/pandas-docs/stable/user_guide/indexing.html#returning-a-view-versus-a-copy\n"
     ]
    },
    {
     "name": "stdout",
     "output_type": "stream",
     "text": [
      "436.20732693158055\n",
      "343.76105398350165\n",
      "188.75042034296493\n",
      "212.11585654878053\n",
      "320.86544014225217\n",
      "235.63273762230665\n",
      "248.74878646215663\n",
      "125.16501318300665\n",
      "52.84741626127729\n",
      "98.54724443834282\n",
      "90.64953219227577\n",
      "18.274686272279013\n",
      "9.21023994083339\n",
      "18.345487493007468\n",
      "46.27013250786139\n",
      "0.0\n"
     ]
    }
   ],
   "source": [
    "diff = 1\n",
    "j=0\n",
    "\n",
    "while(diff!=0):\n",
    "    XD=X\n",
    "    i=1\n",
    "    for index1,row_c in Centroids.iterrows():\n",
    "        ED=[]\n",
    "        for index2,row_d in XD.iterrows():\n",
    "            d1=(row_c[\"ApplicantIncome\"]-row_d[\"ApplicantIncome\"])**2\n",
    "            d2=(row_c[\"LoanAmount\"]-row_d[\"LoanAmount\"])**2\n",
    "            d=np.sqrt(d1+d2)\n",
    "            ED.append(d)\n",
    "        X[i]=ED\n",
    "        i=i+1\n",
    "\n",
    "    C=[]\n",
    "    for index,row in X.iterrows():\n",
    "        min_dist=row[1]\n",
    "        pos=1\n",
    "        for i in range(K):\n",
    "            if row[i+1] < min_dist:\n",
    "                min_dist = row[i+1]\n",
    "                pos=i+1\n",
    "        C.append(pos)\n",
    "    X[\"Cluster\"]=C\n",
    "    Centroids_new = X.groupby([\"Cluster\"]).mean()[[\"LoanAmount\",\"ApplicantIncome\"]]\n",
    "    if j == 0:\n",
    "        diff=1\n",
    "        j=j+1\n",
    "    else:\n",
    "        diff = (Centroids_new['LoanAmount'] - Centroids['LoanAmount']).sum() + (Centroids_new['ApplicantIncome'] - Centroids['ApplicantIncome']).sum()\n",
    "        print(diff.sum())\n",
    "    Centroids = X.groupby([\"Cluster\"]).mean()[[\"LoanAmount\",\"ApplicantIncome\"]]"
   ]
  },
  {
   "cell_type": "markdown",
   "metadata": {},
   "source": [
    "The following plot helps us visualize clusters created through K-Means. First, we define the color of each cluster: blue, green and cyan. The following three lines plot the points and color the points based on the three colors we defined. The fourth line plots the thre three centroids in red and the final line provide labels to the x and y axis. "
   ]
  },
  {
   "cell_type": "code",
   "execution_count": 6,
   "metadata": {},
   "outputs": [
    {
     "data": {
      "image/png": "[encoded data removed]",
      "text/plain": [
       "<Figure size 432x288 with 1 Axes>"
      ]
     },
     "metadata": {
      "needs_background": "light"
     },
     "output_type": "display_data"
    }
   ],
   "source": [
    "color=['blue','green','cyan']\n",
    "for k in range(K):\n",
    "    data=X[X[\"Cluster\"]==k+1]\n",
    "    plt.scatter(data[\"ApplicantIncome\"],data[\"LoanAmount\"],c=color[k])\n",
    "plt.scatter(Centroids[\"ApplicantIncome\"],Centroids[\"LoanAmount\"],c='red')\n",
    "plt.xlabel('Income')\n",
    "plt.ylabel('Loan Amount (In Thousands)')\n",
    "plt.show()"
   ]
  },
  {
   "cell_type": "markdown",
   "metadata": {},
   "source": [
    "### 2. Implementing K-Means Clustering in Python\n",
    "For this exercise, we will be segmenting wholesale customers, using the Wholssale customers csv data. First, we need to import the required libraries, which are the same as the ones before, plus the the KMeans library from the sklearn.cluster package. "
   ]
  },
  {
   "cell_type": "code",
   "execution_count": 12,
   "metadata": {},
   "outputs": [],
   "source": [
    "import pandas as pd\n",
    "import numpy as np\n",
    "import matplotlib.pyplot as plt\n",
    "%matplotlib inline\n",
    "from sklearn.cluster import KMeans"
   ]
  },
  {
   "cell_type": "markdown",
   "metadata": {},
   "source": [
    "As before, we read our .csv data file using the read_csv() function; we check the first 5 row with head(). We assigned the data to the vector data. "
   ]
  },
  {
   "cell_type": "code",
   "execution_count": 8,
   "metadata": {},
   "outputs": [
    {
     "data": {
      "text/html": [
       "<div>\n",
       "<style scoped>\n",
       "    .dataframe tbody tr th:only-of-type {\n",
       "        vertical-align: middle;\n",
       "    }\n",
       "\n",
       "    .dataframe tbody tr th {\n",
       "        vertical-align: top;\n",
       "    }\n",
       "\n",
       "    .dataframe thead th {\n",
       "        text-align: right;\n",
       "    }\n",
       "</style>\n",
       "<table border=\"1\" class=\"dataframe\">\n",
       "  <thead>\n",
       "    <tr style=\"text-align: right;\">\n",
       "      <th></th>\n",
       "      <th>Channel</th>\n",
       "      <th>Region</th>\n",
       "      <th>Fresh</th>\n",
       "      <th>Milk</th>\n",
       "      <th>Grocery</th>\n",
       "      <th>Frozen</th>\n",
       "      <th>Detergents_Paper</th>\n",
       "      <th>Delicassen</th>\n",
       "    </tr>\n",
       "  </thead>\n",
       "  <tbody>\n",
       "    <tr>\n",
       "      <td>0</td>\n",
       "      <td>2</td>\n",
       "      <td>3</td>\n",
       "      <td>12669</td>\n",
       "      <td>9656</td>\n",
       "      <td>7561</td>\n",
       "      <td>214</td>\n",
       "      <td>2674</td>\n",
       "      <td>1338</td>\n",
       "    </tr>\n",
       "    <tr>\n",
       "      <td>1</td>\n",
       "      <td>2</td>\n",
       "      <td>3</td>\n",
       "      <td>7057</td>\n",
       "      <td>9810</td>\n",
       "      <td>9568</td>\n",
       "      <td>1762</td>\n",
       "      <td>3293</td>\n",
       "      <td>1776</td>\n",
       "    </tr>\n",
       "    <tr>\n",
       "      <td>2</td>\n",
       "      <td>2</td>\n",
       "      <td>3</td>\n",
       "      <td>6353</td>\n",
       "      <td>8808</td>\n",
       "      <td>7684</td>\n",
       "      <td>2405</td>\n",
       "      <td>3516</td>\n",
       "      <td>7844</td>\n",
       "    </tr>\n",
       "    <tr>\n",
       "      <td>3</td>\n",
       "      <td>1</td>\n",
       "      <td>3</td>\n",
       "      <td>13265</td>\n",
       "      <td>1196</td>\n",
       "      <td>4221</td>\n",
       "      <td>6404</td>\n",
       "      <td>507</td>\n",
       "      <td>1788</td>\n",
       "    </tr>\n",
       "    <tr>\n",
       "      <td>4</td>\n",
       "      <td>2</td>\n",
       "      <td>3</td>\n",
       "      <td>22615</td>\n",
       "      <td>5410</td>\n",
       "      <td>7198</td>\n",
       "      <td>3915</td>\n",
       "      <td>1777</td>\n",
       "      <td>5185</td>\n",
       "    </tr>\n",
       "  </tbody>\n",
       "</table>\n",
       "</div>"
      ],
      "text/plain": [
       "   Channel  Region  Fresh  Milk  Grocery  Frozen  Detergents_Paper  Delicassen\n",
       "0        2       3  12669  9656     7561     214              2674        1338\n",
       "1        2       3   7057  9810     9568    1762              3293        1776\n",
       "2        2       3   6353  8808     7684    2405              3516        7844\n",
       "3        1       3  13265  1196     4221    6404               507        1788\n",
       "4        2       3  22615  5410     7198    3915              1777        5185"
      ]
     },
     "execution_count": 8,
     "metadata": {},
     "output_type": "execute_result"
    }
   ],
   "source": [
    "data=pd.read_csv(\"Wholesale customers data (1).csv\")\n",
    "data.head()"
   ]
  },
  {
   "cell_type": "markdown",
   "metadata": {},
   "source": [
    "Then, we can get some basic descriptive statistics about the channel, region, freshness, milk, grocery, frozen, detergents_paper and delicatessen (our variables) using the describe() function. We get the count, mean, standard deviation, minimum, first quartile, median, second quartile and the maximum. Clearly the magnitude of channel and region is lower than that of the other variables. "
   ]
  },
  {
   "cell_type": "code",
   "execution_count": 9,
   "metadata": {},
   "outputs": [
    {
     "data": {
      "text/html": [
       "<div>\n",
       "<style scoped>\n",
       "    .dataframe tbody tr th:only-of-type {\n",
       "        vertical-align: middle;\n",
       "    }\n",
       "\n",
       "    .dataframe tbody tr th {\n",
       "        vertical-align: top;\n",
       "    }\n",
       "\n",
       "    .dataframe thead th {\n",
       "        text-align: right;\n",
       "    }\n",
       "</style>\n",
       "<table border=\"1\" class=\"dataframe\">\n",
       "  <thead>\n",
       "    <tr style=\"text-align: right;\">\n",
       "      <th></th>\n",
       "      <th>Channel</th>\n",
       "      <th>Region</th>\n",
       "      <th>Fresh</th>\n",
       "      <th>Milk</th>\n",
       "      <th>Grocery</th>\n",
       "      <th>Frozen</th>\n",
       "      <th>Detergents_Paper</th>\n",
       "      <th>Delicassen</th>\n",
       "    </tr>\n",
       "  </thead>\n",
       "  <tbody>\n",
       "    <tr>\n",
       "      <td>count</td>\n",
       "      <td>440.000000</td>\n",
       "      <td>440.000000</td>\n",
       "      <td>440.000000</td>\n",
       "      <td>440.000000</td>\n",
       "      <td>440.000000</td>\n",
       "      <td>440.000000</td>\n",
       "      <td>440.000000</td>\n",
       "      <td>440.000000</td>\n",
       "    </tr>\n",
       "    <tr>\n",
       "      <td>mean</td>\n",
       "      <td>1.322727</td>\n",
       "      <td>2.543182</td>\n",
       "      <td>12000.297727</td>\n",
       "      <td>5796.265909</td>\n",
       "      <td>7951.277273</td>\n",
       "      <td>3071.931818</td>\n",
       "      <td>2881.493182</td>\n",
       "      <td>1524.870455</td>\n",
       "    </tr>\n",
       "    <tr>\n",
       "      <td>std</td>\n",
       "      <td>0.468052</td>\n",
       "      <td>0.774272</td>\n",
       "      <td>12647.328865</td>\n",
       "      <td>7380.377175</td>\n",
       "      <td>9503.162829</td>\n",
       "      <td>4854.673333</td>\n",
       "      <td>4767.854448</td>\n",
       "      <td>2820.105937</td>\n",
       "    </tr>\n",
       "    <tr>\n",
       "      <td>min</td>\n",
       "      <td>1.000000</td>\n",
       "      <td>1.000000</td>\n",
       "      <td>3.000000</td>\n",
       "      <td>55.000000</td>\n",
       "      <td>3.000000</td>\n",
       "      <td>25.000000</td>\n",
       "      <td>3.000000</td>\n",
       "      <td>3.000000</td>\n",
       "    </tr>\n",
       "    <tr>\n",
       "      <td>25%</td>\n",
       "      <td>1.000000</td>\n",
       "      <td>2.000000</td>\n",
       "      <td>3127.750000</td>\n",
       "      <td>1533.000000</td>\n",
       "      <td>2153.000000</td>\n",
       "      <td>742.250000</td>\n",
       "      <td>256.750000</td>\n",
       "      <td>408.250000</td>\n",
       "    </tr>\n",
       "    <tr>\n",
       "      <td>50%</td>\n",
       "      <td>1.000000</td>\n",
       "      <td>3.000000</td>\n",
       "      <td>8504.000000</td>\n",
       "      <td>3627.000000</td>\n",
       "      <td>4755.500000</td>\n",
       "      <td>1526.000000</td>\n",
       "      <td>816.500000</td>\n",
       "      <td>965.500000</td>\n",
       "    </tr>\n",
       "    <tr>\n",
       "      <td>75%</td>\n",
       "      <td>2.000000</td>\n",
       "      <td>3.000000</td>\n",
       "      <td>16933.750000</td>\n",
       "      <td>7190.250000</td>\n",
       "      <td>10655.750000</td>\n",
       "      <td>3554.250000</td>\n",
       "      <td>3922.000000</td>\n",
       "      <td>1820.250000</td>\n",
       "    </tr>\n",
       "    <tr>\n",
       "      <td>max</td>\n",
       "      <td>2.000000</td>\n",
       "      <td>3.000000</td>\n",
       "      <td>112151.000000</td>\n",
       "      <td>73498.000000</td>\n",
       "      <td>92780.000000</td>\n",
       "      <td>60869.000000</td>\n",
       "      <td>40827.000000</td>\n",
       "      <td>47943.000000</td>\n",
       "    </tr>\n",
       "  </tbody>\n",
       "</table>\n",
       "</div>"
      ],
      "text/plain": [
       "          Channel      Region          Fresh          Milk       Grocery  \\\n",
       "count  440.000000  440.000000     440.000000    440.000000    440.000000   \n",
       "mean     1.322727    2.543182   12000.297727   5796.265909   7951.277273   \n",
       "std      0.468052    0.774272   12647.328865   7380.377175   9503.162829   \n",
       "min      1.000000    1.000000       3.000000     55.000000      3.000000   \n",
       "25%      1.000000    2.000000    3127.750000   1533.000000   2153.000000   \n",
       "50%      1.000000    3.000000    8504.000000   3627.000000   4755.500000   \n",
       "75%      2.000000    3.000000   16933.750000   7190.250000  10655.750000   \n",
       "max      2.000000    3.000000  112151.000000  73498.000000  92780.000000   \n",
       "\n",
       "             Frozen  Detergents_Paper    Delicassen  \n",
       "count    440.000000        440.000000    440.000000  \n",
       "mean    3071.931818       2881.493182   1524.870455  \n",
       "std     4854.673333       4767.854448   2820.105937  \n",
       "min       25.000000          3.000000      3.000000  \n",
       "25%      742.250000        256.750000    408.250000  \n",
       "50%     1526.000000        816.500000    965.500000  \n",
       "75%     3554.250000       3922.000000   1820.250000  \n",
       "max    60869.000000      40827.000000  47943.000000  "
      ]
     },
     "execution_count": 9,
     "metadata": {},
     "output_type": "execute_result"
    }
   ],
   "source": [
    "data.describe()"
   ]
  },
  {
   "cell_type": "markdown",
   "metadata": {},
   "source": [
    "The next step is to standardize the data because K-Means is a distance-based algorithm, meaning that the difference in magnitude can create a problem. Hence, we need to bring all the variables to the same magnitude. For this, we first import the StandardScaler function from the sklearn.preporcessing package, assign it to the scaler vector, and the use the fit_transform() function to convert the original data into its scaled form. We then show the descriptive statistics of the scaled/standardized data with describe (). "
   ]
  },
  {
   "cell_type": "code",
   "execution_count": 10,
   "metadata": {},
   "outputs": [
    {
     "data": {
      "text/html": [
       "<div>\n",
       "<style scoped>\n",
       "    .dataframe tbody tr th:only-of-type {\n",
       "        vertical-align: middle;\n",
       "    }\n",
       "\n",
       "    .dataframe tbody tr th {\n",
       "        vertical-align: top;\n",
       "    }\n",
       "\n",
       "    .dataframe thead th {\n",
       "        text-align: right;\n",
       "    }\n",
       "</style>\n",
       "<table border=\"1\" class=\"dataframe\">\n",
       "  <thead>\n",
       "    <tr style=\"text-align: right;\">\n",
       "      <th></th>\n",
       "      <th>0</th>\n",
       "      <th>1</th>\n",
       "      <th>2</th>\n",
       "      <th>3</th>\n",
       "      <th>4</th>\n",
       "      <th>5</th>\n",
       "      <th>6</th>\n",
       "      <th>7</th>\n",
       "    </tr>\n",
       "  </thead>\n",
       "  <tbody>\n",
       "    <tr>\n",
       "      <td>count</td>\n",
       "      <td>4.400000e+02</td>\n",
       "      <td>4.400000e+02</td>\n",
       "      <td>4.400000e+02</td>\n",
       "      <td>4.400000e+02</td>\n",
       "      <td>4.400000e+02</td>\n",
       "      <td>4.400000e+02</td>\n",
       "      <td>4.400000e+02</td>\n",
       "      <td>4.400000e+02</td>\n",
       "    </tr>\n",
       "    <tr>\n",
       "      <td>mean</td>\n",
       "      <td>-2.452584e-16</td>\n",
       "      <td>-5.737834e-16</td>\n",
       "      <td>-2.422305e-17</td>\n",
       "      <td>-1.589638e-17</td>\n",
       "      <td>-6.030530e-17</td>\n",
       "      <td>1.135455e-17</td>\n",
       "      <td>-1.917658e-17</td>\n",
       "      <td>-8.276208e-17</td>\n",
       "    </tr>\n",
       "    <tr>\n",
       "      <td>std</td>\n",
       "      <td>1.001138e+00</td>\n",
       "      <td>1.001138e+00</td>\n",
       "      <td>1.001138e+00</td>\n",
       "      <td>1.001138e+00</td>\n",
       "      <td>1.001138e+00</td>\n",
       "      <td>1.001138e+00</td>\n",
       "      <td>1.001138e+00</td>\n",
       "      <td>1.001138e+00</td>\n",
       "    </tr>\n",
       "    <tr>\n",
       "      <td>min</td>\n",
       "      <td>-6.902971e-01</td>\n",
       "      <td>-1.995342e+00</td>\n",
       "      <td>-9.496831e-01</td>\n",
       "      <td>-7.787951e-01</td>\n",
       "      <td>-8.373344e-01</td>\n",
       "      <td>-6.283430e-01</td>\n",
       "      <td>-6.044165e-01</td>\n",
       "      <td>-5.402644e-01</td>\n",
       "    </tr>\n",
       "    <tr>\n",
       "      <td>25%</td>\n",
       "      <td>-6.902971e-01</td>\n",
       "      <td>-7.023369e-01</td>\n",
       "      <td>-7.023339e-01</td>\n",
       "      <td>-5.783063e-01</td>\n",
       "      <td>-6.108364e-01</td>\n",
       "      <td>-4.804306e-01</td>\n",
       "      <td>-5.511349e-01</td>\n",
       "      <td>-3.964005e-01</td>\n",
       "    </tr>\n",
       "    <tr>\n",
       "      <td>50%</td>\n",
       "      <td>-6.902971e-01</td>\n",
       "      <td>5.906683e-01</td>\n",
       "      <td>-2.767602e-01</td>\n",
       "      <td>-2.942580e-01</td>\n",
       "      <td>-3.366684e-01</td>\n",
       "      <td>-3.188045e-01</td>\n",
       "      <td>-4.336004e-01</td>\n",
       "      <td>-1.985766e-01</td>\n",
       "    </tr>\n",
       "    <tr>\n",
       "      <td>75%</td>\n",
       "      <td>1.448652e+00</td>\n",
       "      <td>5.906683e-01</td>\n",
       "      <td>3.905226e-01</td>\n",
       "      <td>1.890921e-01</td>\n",
       "      <td>2.849105e-01</td>\n",
       "      <td>9.946441e-02</td>\n",
       "      <td>2.184822e-01</td>\n",
       "      <td>1.048598e-01</td>\n",
       "    </tr>\n",
       "    <tr>\n",
       "      <td>max</td>\n",
       "      <td>1.448652e+00</td>\n",
       "      <td>5.906683e-01</td>\n",
       "      <td>7.927738e+00</td>\n",
       "      <td>9.183650e+00</td>\n",
       "      <td>8.936528e+00</td>\n",
       "      <td>1.191900e+01</td>\n",
       "      <td>7.967672e+00</td>\n",
       "      <td>1.647845e+01</td>\n",
       "    </tr>\n",
       "  </tbody>\n",
       "</table>\n",
       "</div>"
      ],
      "text/plain": [
       "                  0             1             2             3             4  \\\n",
       "count  4.400000e+02  4.400000e+02  4.400000e+02  4.400000e+02  4.400000e+02   \n",
       "mean  -2.452584e-16 -5.737834e-16 -2.422305e-17 -1.589638e-17 -6.030530e-17   \n",
       "std    1.001138e+00  1.001138e+00  1.001138e+00  1.001138e+00  1.001138e+00   \n",
       "min   -6.902971e-01 -1.995342e+00 -9.496831e-01 -7.787951e-01 -8.373344e-01   \n",
       "25%   -6.902971e-01 -7.023369e-01 -7.023339e-01 -5.783063e-01 -6.108364e-01   \n",
       "50%   -6.902971e-01  5.906683e-01 -2.767602e-01 -2.942580e-01 -3.366684e-01   \n",
       "75%    1.448652e+00  5.906683e-01  3.905226e-01  1.890921e-01  2.849105e-01   \n",
       "max    1.448652e+00  5.906683e-01  7.927738e+00  9.183650e+00  8.936528e+00   \n",
       "\n",
       "                  5             6             7  \n",
       "count  4.400000e+02  4.400000e+02  4.400000e+02  \n",
       "mean   1.135455e-17 -1.917658e-17 -8.276208e-17  \n",
       "std    1.001138e+00  1.001138e+00  1.001138e+00  \n",
       "min   -6.283430e-01 -6.044165e-01 -5.402644e-01  \n",
       "25%   -4.804306e-01 -5.511349e-01 -3.964005e-01  \n",
       "50%   -3.188045e-01 -4.336004e-01 -1.985766e-01  \n",
       "75%    9.946441e-02  2.184822e-01  1.048598e-01  \n",
       "max    1.191900e+01  7.967672e+00  1.647845e+01  "
      ]
     },
     "execution_count": 10,
     "metadata": {},
     "output_type": "execute_result"
    }
   ],
   "source": [
    "from sklearn.preprocessing import StandardScaler\n",
    "scaler = StandardScaler()\n",
    "data_scaled = scaler.fit_transform(data)\n",
    "\n",
    "pd.DataFrame(data_scaled).describe()"
   ]
  },
  {
   "cell_type": "markdown",
   "metadata": {},
   "source": [
    "Next, we need to generate a kmeans function, using the respective function of the same name from the package, and fit it on the data. We define the kmeans fucntion with initialization (init function) as k-means++. Then, we fit the k means algorithm on the scaled data with fit(). The results show that we have initialized two clusters; the initialization is not random here. Instead, we have used the k-means++ initialization which generally produces better results. "
   ]
  },
  {
   "cell_type": "code",
   "execution_count": 13,
   "metadata": {},
   "outputs": [
    {
     "data": {
      "text/plain": [
       "KMeans(algorithm='auto', copy_x=True, init='k-means++', max_iter=300,\n",
       "       n_clusters=2, n_init=10, n_jobs=None, precompute_distances='auto',\n",
       "       random_state=None, tol=0.0001, verbose=0)"
      ]
     },
     "execution_count": 13,
     "metadata": {},
     "output_type": "execute_result"
    }
   ],
   "source": [
    "kmeans = KMeans(n_clusters=2, init='k-means++')\n",
    "\n",
    "kmeans.fit(data_scaled)"
   ]
  },
  {
   "cell_type": "markdown",
   "metadata": {},
   "source": [
    "Next, we evaluate how well the formed clusters are, calculating the inertia, i.e. the sum of all points in a cluster, from the centroid of the cluster, of the clusters on the fitted data. We get a value of almost 2600. "
   ]
  },
  {
   "cell_type": "code",
   "execution_count": 14,
   "metadata": {},
   "outputs": [
    {
     "data": {
      "text/plain": [
       "2599.38555935614"
      ]
     },
     "execution_count": 14,
     "metadata": {},
     "output_type": "execute_result"
    }
   ],
   "source": [
    "kmeans.inertia_"
   ]
  },
  {
   "cell_type": "markdown",
   "metadata": {},
   "source": [
    "We can then use an elbow curve to determine the optimum number of clusters in Python. We first start by fitting multiple k-means algorithms and storing their values in an empty list. Then, we convert the results into a dataframe and plot them, using the plot() function. "
   ]
  },
  {
   "cell_type": "code",
   "execution_count": 15,
   "metadata": {},
   "outputs": [
    {
     "data": {
      "text/plain": [
       "Text(0, 0.5, 'Inertia')"
      ]
     },
     "execution_count": 15,
     "metadata": {},
     "output_type": "execute_result"
    },
    {
     "data": {
      "image/png": "[encoded data removed]",
      "text/plain": [
       "<Figure size 864x432 with 1 Axes>"
      ]
     },
     "metadata": {
      "needs_background": "light"
     },
     "output_type": "display_data"
    }
   ],
   "source": [
    "SSE = []\n",
    "for cluster in range(1,20):\n",
    "    kmeans = KMeans(n_jobs = -1, n_clusters = cluster, init='k-means++')\n",
    "    kmeans.fit(data_scaled)\n",
    "    SSE.append(kmeans.inertia_)\n",
    "\n",
    "frame = pd.DataFrame({'Cluster':range(1,20), 'SSE':SSE})\n",
    "plt.figure(figsize=(12,6))\n",
    "plt.plot(frame['Cluster'], frame['SSE'], marker='o')\n",
    "plt.xlabel('Number of clusters')\n",
    "plt.ylabel('Inertia')"
   ]
  },
  {
   "cell_type": "markdown",
   "metadata": {},
   "source": [
    "The plot shows that the optimum number of clusters for this data is between 5 to 8. Lets set the number of cluster to 6 and use k-means++ initializaition. We use the KMeans function and specify n_jobs to be -1 and n_clusters to be 6. We the use the predict function on the scaled data. "
   ]
  },
  {
   "cell_type": "code",
   "execution_count": 24,
   "metadata": {},
   "outputs": [],
   "source": [
    "# k means using 6 clusters and k-means++ initialization\n",
    "kmeans = KMeans(n_jobs = -1, n_clusters = 6, init='k-means++')\n",
    "kmeans.fit(data_scaled)\n",
    "pred = kmeans.predict(data_scaled)"
   ]
  },
  {
   "cell_type": "markdown",
   "metadata": {},
   "source": [
    "Finally, let’s look at the value count of points in each of the above-formed clusters. So, there are 172 data points belonging to cluster 5 (index 1), then 125 points in cluster 4 (index 3), and so on. This is how we can implement K-Means Clustering in Python."
   ]
  },
  {
   "cell_type": "code",
   "execution_count": 23,
   "metadata": {},
   "outputs": [
    {
     "data": {
      "text/plain": [
       "1    172\n",
       "3    125\n",
       "2     86\n",
       "5     45\n",
       "0     11\n",
       "4      1\n",
       "Name: cluster, dtype: int64"
      ]
     },
     "execution_count": 23,
     "metadata": {},
     "output_type": "execute_result"
    }
   ],
   "source": [
    "frame = pd.DataFrame(data_scaled)\n",
    "frame['cluster'] = pred\n",
    "frame['cluster'].value_counts()"
   ]
  },
  {
   "cell_type": "code",
   "execution_count": null,
   "metadata": {},
   "outputs": [],
   "source": []
  }
 ],
 "metadata": {
  "kernelspec": {
   "display_name": "Python 3",
   "language": "python",
   "name": "python3"
  },
  "language_info": {
   "codemirror_mode": {
    "name": "ipython",
    "version": 3
   },
   "file_extension": ".py",
   "mimetype": "text/x-python",
   "name": "python",
   "nbconvert_exporter": "python",
   "pygments_lexer": "ipython3",
   "version": "3.7.3"
  }
 },
 "nbformat": 4,
 "nbformat_minor": 2
}
